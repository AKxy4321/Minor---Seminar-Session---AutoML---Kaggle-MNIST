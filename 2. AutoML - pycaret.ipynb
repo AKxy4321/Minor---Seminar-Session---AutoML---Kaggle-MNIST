{
 "cells": [
  {
   "cell_type": "code",
   "execution_count": 38,
   "metadata": {},
   "outputs": [],
   "source": [
    "#%pip install -q scikit-learn pandas pycaret pycaret[models]"
   ]
  },
  {
   "cell_type": "markdown",
   "metadata": {},
   "source": [
    "#Iris dataset - \n",
    "https://www.kaggle.com/datasets/uciml/iris"
   ]
  },
  {
   "cell_type": "code",
   "execution_count": 39,
   "metadata": {},
   "outputs": [],
   "source": [
    "import pandas as pd\n",
    "from pycaret.classification import *\n",
    "\n",
    "df = pd.read_csv('Iris.csv')\n",
    "X, y = df.drop(['Id', 'Species'], axis = 1), df['Species']\n",
    "df = pd.concat([X, y], axis = 1)"
   ]
  },
  {
   "cell_type": "code",
   "execution_count": 40,
   "metadata": {},
   "outputs": [
    {
     "data": {
      "text/html": [
       "<style type=\"text/css\">\n",
       "#T_90cf2_row9_col1 {\n",
       "  background-color: lightgreen;\n",
       "}\n",
       "</style>\n",
       "<table id=\"T_90cf2\">\n",
       "  <thead>\n",
       "    <tr>\n",
       "      <th class=\"blank level0\" >&nbsp;</th>\n",
       "      <th id=\"T_90cf2_level0_col0\" class=\"col_heading level0 col0\" >Description</th>\n",
       "      <th id=\"T_90cf2_level0_col1\" class=\"col_heading level0 col1\" >Value</th>\n",
       "    </tr>\n",
       "  </thead>\n",
       "  <tbody>\n",
       "    <tr>\n",
       "      <th id=\"T_90cf2_level0_row0\" class=\"row_heading level0 row0\" >0</th>\n",
       "      <td id=\"T_90cf2_row0_col0\" class=\"data row0 col0\" >Session id</td>\n",
       "      <td id=\"T_90cf2_row0_col1\" class=\"data row0 col1\" >941</td>\n",
       "    </tr>\n",
       "    <tr>\n",
       "      <th id=\"T_90cf2_level0_row1\" class=\"row_heading level0 row1\" >1</th>\n",
       "      <td id=\"T_90cf2_row1_col0\" class=\"data row1 col0\" >Target</td>\n",
       "      <td id=\"T_90cf2_row1_col1\" class=\"data row1 col1\" >Species</td>\n",
       "    </tr>\n",
       "    <tr>\n",
       "      <th id=\"T_90cf2_level0_row2\" class=\"row_heading level0 row2\" >2</th>\n",
       "      <td id=\"T_90cf2_row2_col0\" class=\"data row2 col0\" >Target type</td>\n",
       "      <td id=\"T_90cf2_row2_col1\" class=\"data row2 col1\" >Multiclass</td>\n",
       "    </tr>\n",
       "    <tr>\n",
       "      <th id=\"T_90cf2_level0_row3\" class=\"row_heading level0 row3\" >3</th>\n",
       "      <td id=\"T_90cf2_row3_col0\" class=\"data row3 col0\" >Target mapping</td>\n",
       "      <td id=\"T_90cf2_row3_col1\" class=\"data row3 col1\" >Iris-setosa: 0, Iris-versicolor: 1, Iris-virginica: 2</td>\n",
       "    </tr>\n",
       "    <tr>\n",
       "      <th id=\"T_90cf2_level0_row4\" class=\"row_heading level0 row4\" >4</th>\n",
       "      <td id=\"T_90cf2_row4_col0\" class=\"data row4 col0\" >Original data shape</td>\n",
       "      <td id=\"T_90cf2_row4_col1\" class=\"data row4 col1\" >(150, 5)</td>\n",
       "    </tr>\n",
       "    <tr>\n",
       "      <th id=\"T_90cf2_level0_row5\" class=\"row_heading level0 row5\" >5</th>\n",
       "      <td id=\"T_90cf2_row5_col0\" class=\"data row5 col0\" >Transformed data shape</td>\n",
       "      <td id=\"T_90cf2_row5_col1\" class=\"data row5 col1\" >(150, 5)</td>\n",
       "    </tr>\n",
       "    <tr>\n",
       "      <th id=\"T_90cf2_level0_row6\" class=\"row_heading level0 row6\" >6</th>\n",
       "      <td id=\"T_90cf2_row6_col0\" class=\"data row6 col0\" >Transformed train set shape</td>\n",
       "      <td id=\"T_90cf2_row6_col1\" class=\"data row6 col1\" >(105, 5)</td>\n",
       "    </tr>\n",
       "    <tr>\n",
       "      <th id=\"T_90cf2_level0_row7\" class=\"row_heading level0 row7\" >7</th>\n",
       "      <td id=\"T_90cf2_row7_col0\" class=\"data row7 col0\" >Transformed test set shape</td>\n",
       "      <td id=\"T_90cf2_row7_col1\" class=\"data row7 col1\" >(45, 5)</td>\n",
       "    </tr>\n",
       "    <tr>\n",
       "      <th id=\"T_90cf2_level0_row8\" class=\"row_heading level0 row8\" >8</th>\n",
       "      <td id=\"T_90cf2_row8_col0\" class=\"data row8 col0\" >Numeric features</td>\n",
       "      <td id=\"T_90cf2_row8_col1\" class=\"data row8 col1\" >4</td>\n",
       "    </tr>\n",
       "    <tr>\n",
       "      <th id=\"T_90cf2_level0_row9\" class=\"row_heading level0 row9\" >9</th>\n",
       "      <td id=\"T_90cf2_row9_col0\" class=\"data row9 col0\" >Preprocess</td>\n",
       "      <td id=\"T_90cf2_row9_col1\" class=\"data row9 col1\" >True</td>\n",
       "    </tr>\n",
       "    <tr>\n",
       "      <th id=\"T_90cf2_level0_row10\" class=\"row_heading level0 row10\" >10</th>\n",
       "      <td id=\"T_90cf2_row10_col0\" class=\"data row10 col0\" >Imputation type</td>\n",
       "      <td id=\"T_90cf2_row10_col1\" class=\"data row10 col1\" >simple</td>\n",
       "    </tr>\n",
       "    <tr>\n",
       "      <th id=\"T_90cf2_level0_row11\" class=\"row_heading level0 row11\" >11</th>\n",
       "      <td id=\"T_90cf2_row11_col0\" class=\"data row11 col0\" >Numeric imputation</td>\n",
       "      <td id=\"T_90cf2_row11_col1\" class=\"data row11 col1\" >mean</td>\n",
       "    </tr>\n",
       "    <tr>\n",
       "      <th id=\"T_90cf2_level0_row12\" class=\"row_heading level0 row12\" >12</th>\n",
       "      <td id=\"T_90cf2_row12_col0\" class=\"data row12 col0\" >Categorical imputation</td>\n",
       "      <td id=\"T_90cf2_row12_col1\" class=\"data row12 col1\" >mode</td>\n",
       "    </tr>\n",
       "    <tr>\n",
       "      <th id=\"T_90cf2_level0_row13\" class=\"row_heading level0 row13\" >13</th>\n",
       "      <td id=\"T_90cf2_row13_col0\" class=\"data row13 col0\" >Fold Generator</td>\n",
       "      <td id=\"T_90cf2_row13_col1\" class=\"data row13 col1\" >StratifiedKFold</td>\n",
       "    </tr>\n",
       "    <tr>\n",
       "      <th id=\"T_90cf2_level0_row14\" class=\"row_heading level0 row14\" >14</th>\n",
       "      <td id=\"T_90cf2_row14_col0\" class=\"data row14 col0\" >Fold Number</td>\n",
       "      <td id=\"T_90cf2_row14_col1\" class=\"data row14 col1\" >10</td>\n",
       "    </tr>\n",
       "    <tr>\n",
       "      <th id=\"T_90cf2_level0_row15\" class=\"row_heading level0 row15\" >15</th>\n",
       "      <td id=\"T_90cf2_row15_col0\" class=\"data row15 col0\" >CPU Jobs</td>\n",
       "      <td id=\"T_90cf2_row15_col1\" class=\"data row15 col1\" >-1</td>\n",
       "    </tr>\n",
       "    <tr>\n",
       "      <th id=\"T_90cf2_level0_row16\" class=\"row_heading level0 row16\" >16</th>\n",
       "      <td id=\"T_90cf2_row16_col0\" class=\"data row16 col0\" >Use GPU</td>\n",
       "      <td id=\"T_90cf2_row16_col1\" class=\"data row16 col1\" >False</td>\n",
       "    </tr>\n",
       "    <tr>\n",
       "      <th id=\"T_90cf2_level0_row17\" class=\"row_heading level0 row17\" >17</th>\n",
       "      <td id=\"T_90cf2_row17_col0\" class=\"data row17 col0\" >Log Experiment</td>\n",
       "      <td id=\"T_90cf2_row17_col1\" class=\"data row17 col1\" >False</td>\n",
       "    </tr>\n",
       "    <tr>\n",
       "      <th id=\"T_90cf2_level0_row18\" class=\"row_heading level0 row18\" >18</th>\n",
       "      <td id=\"T_90cf2_row18_col0\" class=\"data row18 col0\" >Experiment Name</td>\n",
       "      <td id=\"T_90cf2_row18_col1\" class=\"data row18 col1\" >clf-default-name</td>\n",
       "    </tr>\n",
       "    <tr>\n",
       "      <th id=\"T_90cf2_level0_row19\" class=\"row_heading level0 row19\" >19</th>\n",
       "      <td id=\"T_90cf2_row19_col0\" class=\"data row19 col0\" >USI</td>\n",
       "      <td id=\"T_90cf2_row19_col1\" class=\"data row19 col1\" >fe35</td>\n",
       "    </tr>\n",
       "  </tbody>\n",
       "</table>\n"
      ],
      "text/plain": [
       "<pandas.io.formats.style.Styler at 0x21be5446550>"
      ]
     },
     "metadata": {},
     "output_type": "display_data"
    }
   ],
   "source": [
    "# Create a PyCaret experiment\n",
    "exp1 = setup(data=df)"
   ]
  },
  {
   "cell_type": "code",
   "execution_count": 41,
   "metadata": {},
   "outputs": [
    {
     "data": {
      "text/html": [],
      "text/plain": [
       "<IPython.core.display.HTML object>"
      ]
     },
     "metadata": {},
     "output_type": "display_data"
    },
    {
     "data": {
      "text/html": [],
      "text/plain": [
       "<IPython.core.display.HTML object>"
      ]
     },
     "metadata": {},
     "output_type": "display_data"
    },
    {
     "data": {
      "text/html": [],
      "text/plain": [
       "<IPython.core.display.HTML object>"
      ]
     },
     "metadata": {},
     "output_type": "display_data"
    }
   ],
   "source": [
    "# Compare models and tune hyperparameters\n",
    "best_model = compare_models()"
   ]
  },
  {
   "cell_type": "code",
   "execution_count": 42,
   "metadata": {},
   "outputs": [
    {
     "data": {
      "application/vnd.jupyter.widget-view+json": {
       "model_id": "ef8cea2a1a0d4680ad16b440cfcf385c",
       "version_major": 2,
       "version_minor": 0
      },
      "text/plain": [
       "interactive(children=(ToggleButtons(description='Plot Type:', icons=('',), options=(('Pipeline Plot', 'pipelin…"
      ]
     },
     "metadata": {},
     "output_type": "display_data"
    }
   ],
   "source": [
    "# Evaluate the best model\n",
    "evaluate_model(best_model)"
   ]
  },
  {
   "cell_type": "code",
   "execution_count": 43,
   "metadata": {},
   "outputs": [],
   "source": [
    "# Finalize the best model using the entire dataset\n",
    "final_model = finalize_model(best_model)"
   ]
  },
  {
   "cell_type": "code",
   "execution_count": 44,
   "metadata": {},
   "outputs": [
    {
     "name": "stdout",
     "output_type": "stream",
     "text": [
      "Transformation Pipeline and Model Successfully Saved\n"
     ]
    },
    {
     "data": {
      "text/plain": [
       "(Pipeline(memory=Memory(location=None),\n",
       "          steps=[('label_encoding',\n",
       "                  TransformerWrapperWithInverse(exclude=None, include=None,\n",
       "                                                transformer=LabelEncoder())),\n",
       "                 ('numerical_imputer',\n",
       "                  TransformerWrapper(exclude=None,\n",
       "                                     include=['SepalLengthCm', 'SepalWidthCm',\n",
       "                                              'PetalLengthCm', 'PetalWidthCm'],\n",
       "                                     transformer=SimpleImputer(add_indicator=False,\n",
       "                                                               copy=True,\n",
       "                                                               fill_value=None,\n",
       "                                                               keep_...\n",
       "                                                               strategy='mean'))),\n",
       "                 ('categorical_imputer',\n",
       "                  TransformerWrapper(exclude=None, include=[],\n",
       "                                     transformer=SimpleImputer(add_indicator=False,\n",
       "                                                               copy=True,\n",
       "                                                               fill_value=None,\n",
       "                                                               keep_empty_features=False,\n",
       "                                                               missing_values=nan,\n",
       "                                                               strategy='most_frequent'))),\n",
       "                 ('actual_estimator',\n",
       "                  QuadraticDiscriminantAnalysis(priors=None, reg_param=0.0,\n",
       "                                                store_covariance=False,\n",
       "                                                tol=0.0001))],\n",
       "          verbose=False),\n",
       " 'iris_classification_model.pkl')"
      ]
     },
     "execution_count": 44,
     "metadata": {},
     "output_type": "execute_result"
    }
   ],
   "source": [
    "# Save the model\n",
    "save_model(final_model, 'iris_classification_model')"
   ]
  },
  {
   "cell_type": "code",
   "execution_count": 45,
   "metadata": {},
   "outputs": [
    {
     "name": "stdout",
     "output_type": "stream",
     "text": [
      "Transformation Pipeline and Model Successfully Loaded\n"
     ]
    },
    {
     "data": {
      "text/html": [],
      "text/plain": [
       "<IPython.core.display.HTML object>"
      ]
     },
     "metadata": {},
     "output_type": "display_data"
    },
    {
     "name": "stdout",
     "output_type": "stream",
     "text": [
      "   SepalLengthCm  SepalWidthCm  PetalLengthCm  PetalWidthCm     actual_label  \\\n",
      "0            5.1           3.5            1.4           0.2      Iris-setosa   \n",
      "1            6.2           2.9            4.3           1.5  Iris-versicolor   \n",
      "2            7.3           2.9            6.5           1.8   Iris-virginica   \n",
      "\n",
      "  prediction_label  prediction_score  \n",
      "0      Iris-setosa            1.0000  \n",
      "1  Iris-versicolor            0.9991  \n",
      "2   Iris-virginica            1.0000  \n",
      "Accuracy: 1.0\n"
     ]
    }
   ],
   "source": [
    "from pycaret.classification import load_model, predict_model\n",
    "from sklearn.metrics import accuracy_score\n",
    "\n",
    "# Load the saved model\n",
    "model = load_model('iris_classification_model')\n",
    "\n",
    "# Perform inference on new data\n",
    "new_data = pd.DataFrame({\n",
    "    'SepalLengthCm': [5.1, 6.2, 7.3],\n",
    "    'SepalWidthCm': [3.5, 2.9, 2.9],\n",
    "    'PetalLengthCm': [1.4, 4.3, 6.5],\n",
    "    'PetalWidthCm': [0.2, 1.5, 1.8],\n",
    "    'actual_label': ['Iris-setosa', 'Iris-versicolor', 'Iris-virginica']  # Assuming these are the true labels\n",
    "})\n",
    "\n",
    "predictions = predict_model(model, data=new_data)\n",
    "print(predictions)\n",
    "\n",
    "# Calculate accuracy\n",
    "accuracy = accuracy_score(new_data['actual_label'], predictions['prediction_label'])\n",
    "\n",
    "print(\"Accuracy:\", accuracy)"
   ]
  }
 ],
 "metadata": {
  "kernelspec": {
   "display_name": "Data",
   "language": "python",
   "name": "data"
  },
  "language_info": {
   "codemirror_mode": {
    "name": "ipython",
    "version": 3
   },
   "file_extension": ".py",
   "mimetype": "text/x-python",
   "name": "python",
   "nbconvert_exporter": "python",
   "pygments_lexer": "ipython3",
   "version": "3.11.4"
  }
 },
 "nbformat": 4,
 "nbformat_minor": 2
}
