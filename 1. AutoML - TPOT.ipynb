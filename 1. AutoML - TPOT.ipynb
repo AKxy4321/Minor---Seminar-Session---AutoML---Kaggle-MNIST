{
 "cells": [
  {
   "cell_type": "code",
   "execution_count": null,
   "metadata": {},
   "outputs": [],
   "source": [
    "#%pip install -q TPOT scikit-learn pandas "
   ]
  },
  {
   "cell_type": "code",
   "execution_count": 64,
   "metadata": {},
   "outputs": [
    {
     "data": {
      "application/vnd.jupyter.widget-view+json": {
       "model_id": "3b6b914c84284727b0bd0747dd506066",
       "version_major": 2,
       "version_minor": 0
      },
      "text/plain": [
       "Optimization Progress:   0%|          | 0/120 [00:00<?, ?pipeline/s]"
      ]
     },
     "metadata": {},
     "output_type": "display_data"
    },
    {
     "name": "stdout",
     "output_type": "stream",
     "text": [
      "\n",
      "Generation 1 - Current best internal CV score: 0.9736263736263737\n",
      "\n",
      "Generation 2 - Current best internal CV score: 0.9736263736263737\n",
      "\n",
      "Generation 3 - Current best internal CV score: 0.9758241758241759\n",
      "\n",
      "Generation 4 - Current best internal CV score: 0.9780219780219781\n",
      "\n",
      "Generation 5 - Current best internal CV score: 0.9802197802197803\n",
      "\n",
      "Best pipeline: MLPClassifier(RandomForestClassifier(input_matrix, bootstrap=True, criterion=entropy, max_features=0.5, min_samples_leaf=14, min_samples_split=8, n_estimators=100), alpha=0.001, learning_rate_init=0.001)\n",
      "Accuracy: 0.9649122807017544\n"
     ]
    }
   ],
   "source": [
    "# Step 1: Import necessary libraries\n",
    "from sklearn.datasets import load_breast_cancer\n",
    "from sklearn.model_selection import train_test_split\n",
    "from sklearn.preprocessing import StandardScaler\n",
    "from tpot import TPOTClassifier\n",
    "\n",
    "# Step 2: Load the Breast Cancer dataset\n",
    "data = load_breast_cancer()\n",
    "X, y = data.data, data.target\n",
    "\n",
    "# Step 3: Data Preprocessing\n",
    "# Split the dataset into training and testing sets\n",
    "X_train, X_test, y_train, y_test = train_test_split(X, y, test_size=0.2, random_state=42)\n",
    "\n",
    "# Standardize features by removing the mean and scaling to unit variance\n",
    "scaler = StandardScaler()\n",
    "X_train_scaled = scaler.fit_transform(X_train)\n",
    "X_test_scaled = scaler.transform(X_test)\n",
    "\n",
    "# Step 4: AutoML with TPOT\n",
    "# Initialize TPOTClassifier\n",
    "tpot = TPOTClassifier(generations=5, population_size=20, verbosity=2, random_state=42)\n",
    "\n",
    "# Fit TPOT on the training data\n",
    "tpot.fit(X_train_scaled, y_train)\n",
    "\n",
    "# Step 5: Evaluate the Best Pipeline\n",
    "# Evaluate the performance of the best pipeline on the test set\n",
    "accuracy = tpot.score(X_test_scaled, y_test)\n",
    "print(\"Accuracy:\", accuracy)"
   ]
  },
  {
   "cell_type": "code",
   "execution_count": 65,
   "metadata": {},
   "outputs": [
    {
     "name": "stdout",
     "output_type": "stream",
     "text": [
      "Prediction: 1\n",
      "Actual: 1\n"
     ]
    }
   ],
   "source": [
    "prediction = tpot.predict(X_test_scaled)\n",
    "actual = y_test[0]\n",
    "print(f\"Prediction: {prediction[0]}\")\n",
    "print(f\"Actual: {actual}\")"
   ]
  }
 ],
 "metadata": {
  "kernelspec": {
   "display_name": "Data",
   "language": "python",
   "name": "data"
  },
  "language_info": {
   "codemirror_mode": {
    "name": "ipython",
    "version": 3
   },
   "file_extension": ".py",
   "mimetype": "text/x-python",
   "name": "python",
   "nbconvert_exporter": "python",
   "pygments_lexer": "ipython3",
   "version": "3.11.4"
  }
 },
 "nbformat": 4,
 "nbformat_minor": 2
}
